{
  "nbformat": 4,
  "nbformat_minor": 0,
  "metadata": {
    "colab": {
      "name": "Image-Processing-with-EasyOCR.ipynb",
      "provenance": [],
      "collapsed_sections": [],
      "mount_file_id": "11PK6EynWwqyLe5fDMlP-Z5KWPsfsUMmG",
      "authorship_tag": "ABX9TyOyaxor216VtYzN0j+39zGV",
      "include_colab_link": true
    },
    "kernelspec": {
      "name": "python3",
      "display_name": "Python 3"
    },
    "language_info": {
      "name": "python"
    }
  },
  "cells": [
    {
      "cell_type": "markdown",
      "metadata": {
        "id": "view-in-github",
        "colab_type": "text"
      },
      "source": [
        "<a href=\"https://colab.research.google.com/github/BlitzenPrancer/Image-Processing-with-EasyOCR/blob/main/Image_Processing_with_EasyOCR.ipynb\" target=\"_parent\"><img src=\"https://colab.research.google.com/assets/colab-badge.svg\" alt=\"Open In Colab\"/></a>"
      ]
    },
    {
      "cell_type": "code",
      "metadata": {
        "id": "Jhq7RpWY3wH4"
      },
      "source": [
        "import easyocr"
      ],
      "execution_count": 4,
      "outputs": []
    },
    {
      "cell_type": "code",
      "metadata": {
        "colab": {
          "base_uri": "https://localhost:8080/"
        },
        "id": "gzprlYH531ih",
        "outputId": "073dcc72-061e-4bff-ef7f-44d5f72f2673"
      },
      "source": [
        "# downloading the model\n",
        "reader = easyocr.Reader(['en', 'ja'], gpu = False)"
      ],
      "execution_count": 5,
      "outputs": [
        {
          "output_type": "stream",
          "name": "stderr",
          "text": [
            "Using CPU. Note: This module is much faster with a GPU.\n",
            "Downloading detection model, please wait. This may take several minutes depending upon your network connection.\n"
          ]
        },
        {
          "output_type": "stream",
          "name": "stdout",
          "text": [
            ""
          ]
        },
        {
          "output_type": "stream",
          "name": "stderr",
          "text": [
            "Downloading recognition model, please wait. This may take several minutes depending upon your network connection.\n"
          ]
        },
        {
          "output_type": "stream",
          "name": "stdout",
          "text": [
            ""
          ]
        }
      ]
    },
    {
      "cell_type": "code",
      "metadata": {
        "colab": {
          "base_uri": "https://localhost:8080/",
          "height": 548
        },
        "id": "Tah5bxNN4zjJ",
        "outputId": "d5423000-9864-4540-f11f-876ad9a79d5c"
      },
      "source": [
        "# showing the image\n",
        "import PIL\n",
        "from PIL import ImageDraw\n",
        "im = PIL.Image.open(\"/content/drive/MyDrive/img/invoice.png\")\n",
        "#im = PIL.Image.open(\"france.jfif\")\n",
        "\n",
        "im"
      ],
      "execution_count": 7,
      "outputs": [
        {
          "output_type": "execute_result",
          "data": {
            "image/png": "[encoded data removed]",
            "text/plain": [
              "<PIL.PngImagePlugin.PngImageFile image mode=RGBA size=820x531 at 0x7F9390FECE50>"
            ]
          },
          "metadata": {},
          "execution_count": 7
        }
      ]
    },
    {
      "cell_type": "code",
      "metadata": {
        "colab": {
          "base_uri": "https://localhost:8080/"
        },
        "id": "2o3kW1n55a7Y",
        "outputId": "e18f4f11-a4b3-4f03-e2c7-ec49416088d9"
      },
      "source": [
        "# Doing OCR. Get bounding boxes.\n",
        "bounds = reader.readtext(\"/content/drive/MyDrive/img/invoice.png\")\n",
        "bounds"
      ],
      "execution_count": 9,
      "outputs": [
        {
          "output_type": "stream",
          "name": "stderr",
          "text": [
            "/usr/local/lib/python3.7/dist-packages/torch/nn/functional.py:718: UserWarning: Named tensors and all their associated APIs are an experimental feature and subject to change. Please do not use them for anything important until they are released as stable. (Triggered internally at  /pytorch/c10/core/TensorImpl.h:1156.)\n",
            "  return torch.max_pool2d(input, kernel_size, stride, padding, dilation, ceil_mode)\n"
          ]
        },
        {
          "output_type": "execute_result",
          "data": {
            "text/plain": [
              "[([[52, 71], [324, 71], [324, 104], [52, 104]],\n",
              "  'coMPANYNANE',\n",
              "  0.6025008380996948),\n",
              " ([[593, 97], [675, 97], [675, 111], [593, 111]],\n",
              "  'streetnddress',\n",
              "  0.47445294124612875),\n",
              " ([[593, 111], [695, 111], [695, 127], [593, 127]],\n",
              "  'City,ST ZIP Code',\n",
              "  0.9367465170211933),\n",
              " ([[591, 129], [629, 129], [629, 143], [591, 143]],\n",
              "  'E-nail',\n",
              "  0.4740007885700334),\n",
              " ([[593, 145], [651, 145], [651, 159], [593, 159]],\n",
              "  'PhoneNo',\n",
              "  0.3029157804884788),\n",
              " ([[50, 162], [174, 162], [174, 188], [50, 188]],\n",
              "  'Customer:',\n",
              "  0.7338119590423544),\n",
              " ([[591, 171], [639, 171], [639, 185], [591, 185]],\n",
              "  'V-TNo',\n",
              "  0.6375772552289558),\n",
              " ([[49, 193], [85, 193], [85, 207], [49, 207]], 'Nanie', 0.7088892593963676),\n",
              " ([[51, 209], [133, 209], [133, 223], [51, 223]],\n",
              "  'street - ddress',\n",
              "  0.3323518231295143),\n",
              " ([[591, 209], [655, 209], [655, 223], [591, 223]],\n",
              "  'Invoice No',\n",
              "  0.41212630510906767),\n",
              " ([[51, 223], [153, 223], [153, 239], [51, 239]],\n",
              "  'City, ST ZIP Code',\n",
              "  0.803544183947116),\n",
              " ([[591, 225], [671, 225], [671, 239], [591, 239]],\n",
              "  'Invoice Date:',\n",
              "  0.8278429623117023),\n",
              " ([[51, 243], [89, 243], [89, 259], [51, 259]], 'E-nail', 0.8364084815089337),\n",
              " ([[587, 243], [723, 243], [723, 259], [587, 259]],\n",
              "  'PaynientTemiis 30Dayjs',\n",
              "  0.20549483543874034),\n",
              " ([[51, 259], [107, 259], [107, 275], [51, 275]],\n",
              "  'Phone No一',\n",
              "  0.4938706933446439),\n",
              " ([[432, 280], [732, 280], [732, 312], [432, 312]],\n",
              "  'Commission Invoice',\n",
              "  0.8910662750336403),\n",
              " ([[277, 341], [343, 341], [343, 355], [277, 355]],\n",
              "  'Price wlout',\n",
              "  0.9814503893527865),\n",
              " ([[363, 341], [419, 341], [419, 355], [363, 355]],\n",
              "  'Price with',\n",
              "  0.9457174209200294),\n",
              " ([[439, 341], [503, 341], [503, 355], [439, 355]],\n",
              "  'Totalwout',\n",
              "  0.9914106994628559),\n",
              " ([[523, 341], [577, 341], [577, 355], [523, 355]],\n",
              "  'Totalwith',\n",
              "  0.9928269744756856),\n",
              " ([[599, 341], [669, 341], [669, 355], [599, 355]],\n",
              "  'Coniniissipn',\n",
              "  0.6249201635797331),\n",
              " ([[51, 349], [79, 349], [79, 363], [51, 363]], 'Date', 0.9848796129226685),\n",
              " ([[97, 349], [161, 349], [161, 365], [97, 365]],\n",
              "  'Description',\n",
              "  0.9930269724719836),\n",
              " ([[189, 349], [211, 349], [211, 363], [189, 363]], 'aty', 0.9985592081427946),\n",
              " ([[685, 349], [755, 349], [755, 363], [685, 363]],\n",
              "  'Net rnnount',\n",
              "  0.7725969597857506),\n",
              " ([[275, 357], [343, 357], [343, 371], [275, 371]],\n",
              "  'coniliission',\n",
              "  0.5436442759728983),\n",
              " ([[357, 357], [425, 357], [425, 371], [357, 371]],\n",
              "  'conliission',\n",
              "  0.6131415402230426),\n",
              " ([[437, 357], [503, 357], [503, 371], [437, 371]],\n",
              "  'coniliission',\n",
              "  0.5539970452622008),\n",
              " ([[517, 357], [585, 357], [585, 371], [517, 371]],\n",
              "  'coniliission',\n",
              "  0.6743945317541217),\n",
              " ([[611, 357], [657, 357], [657, 371], [611, 371]],\n",
              "  'Aniount',\n",
              "  0.6140667653275321),\n",
              " ([[49, 385], [89, 385], [89, 399], [49, 399]], '10.6.0-', 0.7833691175612794),\n",
              " ([[97, 385], [173, 385], [173, 401], [97, 401]],\n",
              "  'Case ofsoda',\n",
              "  0.8017014255758651),\n",
              " ([[189, 385], [211, 385], [211, 401], [189, 401]], '100', 0.6035049046642246),\n",
              " ([[233, 385], [255, 385], [255, 401], [233, 401]], '50', 0.9863589361951801),\n",
              " ([[311, 385], [345, 385], [345, 401], [311, 401]],\n",
              "  '50.00',\n",
              "  0.30988295890906314),\n",
              " ([[393, 385], [425, 385], [425, 401], [393, 401]],\n",
              "  '52.50',\n",
              "  0.7788470137456054),\n",
              " ([[453, 385], [505, 385], [505, 401], [453, 401]],\n",
              "  '5000.D0',\n",
              "  0.29574860733793806),\n",
              " ([[537, 385], [587, 385], [587, 401], [537, 401]],\n",
              "  '5,250.00',\n",
              "  0.8712345351185474),\n",
              " ([[629, 385], [671, 385], [671, 401], [629, 401]],\n",
              "  '250.00',\n",
              "  0.4023793739723859),\n",
              " ([[707, 385], [757, 385], [757, 401], [707, 401]],\n",
              "  '5000.D0',\n",
              "  0.2322567364599419),\n",
              " ([[231, 411], [257, 411], [257, 427], [231, 427]],\n",
              "  '1.0',\n",
              "  0.37362346053123474),\n",
              " ([[305, 411], [345, 411], [345, 427], [305, 427]],\n",
              "  '100.D0',\n",
              "  0.1559475442917478),\n",
              " ([[393, 411], [425, 411], [425, 427], [393, 427]],\n",
              "  '10.D0',\n",
              "  0.3483562878128389),\n",
              " ([[453, 413], [505, 413], [505, 427], [453, 427]],\n",
              "  '5,000.00',\n",
              "  0.5708329268231556),\n",
              " ([[545, 411], [587, 411], [587, 427], [545, 427]],\n",
              "  '500.00',\n",
              "  0.5161449763424484),\n",
              " ([[629, 411], [671, 411], [671, 427], [629, 427]],\n",
              "  '500.ざ0',\n",
              "  0.1898241426627793),\n",
              " ([[707, 411], [757, 411], [757, 427], [707, 427]],\n",
              "  '5000.D0',\n",
              "  0.2322567364599419)]"
            ]
          },
          "metadata": {},
          "execution_count": 9
        }
      ]
    }
  ]
}